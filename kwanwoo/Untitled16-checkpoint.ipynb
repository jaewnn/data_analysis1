{
 "cells": [
  {
   "cell_type": "code",
   "execution_count": 4,
   "id": "b89c5d26",
   "metadata": {},
   "outputs": [],
   "source": [
    "import pandas as pd\n",
    "import matplotlib.pyplot as plt\n",
    "%matplotlib inline\n",
    "import seaborn as sns\n",
    "import numpy as np\n",
    "train = pd.read_csv('C:/Users/82106/Desktop/2022/dacon/train.csv')\n"
   ]
  },
  {
   "cell_type": "code",
   "execution_count": 5,
   "id": "39fa56ae",
   "metadata": {},
   "outputs": [],
   "source": [
    "sex_mapping = {\"F\":0, \"M\":1}\n",
    "train['gender']=train['gender'].map(sex_mapping)\n",
    "car_mapping = {\"Y\":1, \"N\":0}\n",
    "train['car']=train['car'].map(car_mapping)\n",
    "reality_mapping = {\"Y\":1, \"N\":0}\n",
    "train['reality']=train['reality'].map(reality_mapping)\n"
   ]
  },
  {
   "cell_type": "code",
   "execution_count": 6,
   "id": "3273a3af",
   "metadata": {},
   "outputs": [],
   "source": [
    "income_type_mapping = {'Commercial associate':0, 'Working':0.25, 'State servant':0.5, 'Pensioner':0.75, 'Student':0.1}\n",
    "train['income_type']=train['income_type'].map(income_type_mapping)\n",
    "edu_type_mapping = {'Higher education':0 ,'Secondary / secondary special':0.25, 'Incomplete higher':0.5, 'Lower secondary':0.75, 'Academic degree':1}\n",
    "train['edu_type']=train['edu_type'].map(edu_type_mapping)\n",
    "family_type_mapping = {'Married':0, 'Civil marriage':0.25, 'Separated':0.5, 'Single / not married':0.75, 'Widow':1}\n",
    "train['family_type']=train['family_type'].map(family_type_mapping)\n",
    "house_type_mapping = {'Municipal apartment':0, 'House / apartment':0.2, 'With parents':0.4,'Co-op apartment':0.6, 'Rented apartment':0.8, 'Office apartment':1}\n",
    "train['house_type']=train['house_type'].map(house_type_mapping)"
   ]
  },
  {
   "cell_type": "code",
   "execution_count": 7,
   "id": "f2f834ad",
   "metadata": {},
   "outputs": [],
   "source": [
    "train.drop(['index','FLAG_MOBIL','occyp_type','child_num'],axis=1,inplace=True)"
   ]
  },
  {
   "cell_type": "code",
   "execution_count": 8,
   "id": "0eb063f0",
   "metadata": {},
   "outputs": [],
   "source": [
    "train['income_total']=np.log10(train['income_total'])"
   ]
  },
  {
   "cell_type": "code",
   "execution_count": 9,
   "id": "0c582368",
   "metadata": {
    "scrolled": true
   },
   "outputs": [],
   "source": [
    "train['DAYS_BIRTH']=-train['DAYS_BIRTH']\n",
    "train['DAYS_EMPLOYED']=-train['DAYS_EMPLOYED']\n",
    "train['DAYS_BIRTH']=np.log10(train['DAYS_BIRTH'])\n",
    "train['DAYS_EMPLOYED']=np.log10(train['DAYS_EMPLOYED'])"
   ]
  },
  {
   "cell_type": "code",
   "execution_count": 10,
   "id": "114ef16e",
   "metadata": {},
   "outputs": [],
   "source": [
    "train.loc[train['family_size']<=1,'family_size']=0\n",
    "train.loc[(train['family_size']>1)&(train['family_size']<=2),'family_size'] = 1\n",
    "train.loc[(train['family_size']>2)&(train['family_size']<=4),'family_size'] = 2\n",
    "train.loc[train['family_size']>4, 'family_size'] = 3"
   ]
  },
  {
   "cell_type": "code",
   "execution_count": 11,
   "id": "a0571d08",
   "metadata": {},
   "outputs": [],
   "source": [
    "train['begin_month']=-train['begin_month']/10"
   ]
  },
  {
   "cell_type": "code",
   "execution_count": 12,
   "id": "55579943",
   "metadata": {},
   "outputs": [
    {
     "data": {
      "text/html": [
       "<div>\n",
       "<style scoped>\n",
       "    .dataframe tbody tr th:only-of-type {\n",
       "        vertical-align: middle;\n",
       "    }\n",
       "\n",
       "    .dataframe tbody tr th {\n",
       "        vertical-align: top;\n",
       "    }\n",
       "\n",
       "    .dataframe thead th {\n",
       "        text-align: right;\n",
       "    }\n",
       "</style>\n",
       "<table border=\"1\" class=\"dataframe\">\n",
       "  <thead>\n",
       "    <tr style=\"text-align: right;\">\n",
       "      <th></th>\n",
       "      <th>gender</th>\n",
       "      <th>car</th>\n",
       "      <th>reality</th>\n",
       "      <th>income_total</th>\n",
       "      <th>income_type</th>\n",
       "      <th>edu_type</th>\n",
       "      <th>family_type</th>\n",
       "      <th>house_type</th>\n",
       "      <th>DAYS_BIRTH</th>\n",
       "      <th>DAYS_EMPLOYED</th>\n",
       "      <th>work_phone</th>\n",
       "      <th>phone</th>\n",
       "      <th>email</th>\n",
       "      <th>family_size</th>\n",
       "      <th>begin_month</th>\n",
       "      <th>credit</th>\n",
       "    </tr>\n",
       "  </thead>\n",
       "  <tbody>\n",
       "    <tr>\n",
       "      <th>0</th>\n",
       "      <td>0</td>\n",
       "      <td>0</td>\n",
       "      <td>0</td>\n",
       "      <td>5.306425</td>\n",
       "      <td>0.00</td>\n",
       "      <td>0.00</td>\n",
       "      <td>0.00</td>\n",
       "      <td>0.0</td>\n",
       "      <td>4.142984</td>\n",
       "      <td>3.672929</td>\n",
       "      <td>0</td>\n",
       "      <td>0</td>\n",
       "      <td>0</td>\n",
       "      <td>1</td>\n",
       "      <td>0.6</td>\n",
       "      <td>1</td>\n",
       "    </tr>\n",
       "    <tr>\n",
       "      <th>1</th>\n",
       "      <td>0</td>\n",
       "      <td>0</td>\n",
       "      <td>1</td>\n",
       "      <td>5.393575</td>\n",
       "      <td>0.00</td>\n",
       "      <td>0.25</td>\n",
       "      <td>0.25</td>\n",
       "      <td>0.2</td>\n",
       "      <td>4.056142</td>\n",
       "      <td>3.187521</td>\n",
       "      <td>0</td>\n",
       "      <td>0</td>\n",
       "      <td>1</td>\n",
       "      <td>2</td>\n",
       "      <td>0.5</td>\n",
       "      <td>1</td>\n",
       "    </tr>\n",
       "    <tr>\n",
       "      <th>2</th>\n",
       "      <td>1</td>\n",
       "      <td>1</td>\n",
       "      <td>1</td>\n",
       "      <td>5.653213</td>\n",
       "      <td>0.25</td>\n",
       "      <td>0.00</td>\n",
       "      <td>0.00</td>\n",
       "      <td>0.2</td>\n",
       "      <td>4.280738</td>\n",
       "      <td>3.646796</td>\n",
       "      <td>0</td>\n",
       "      <td>1</td>\n",
       "      <td>0</td>\n",
       "      <td>1</td>\n",
       "      <td>2.2</td>\n",
       "      <td>2</td>\n",
       "    </tr>\n",
       "    <tr>\n",
       "      <th>3</th>\n",
       "      <td>0</td>\n",
       "      <td>0</td>\n",
       "      <td>1</td>\n",
       "      <td>5.306425</td>\n",
       "      <td>0.00</td>\n",
       "      <td>0.25</td>\n",
       "      <td>0.00</td>\n",
       "      <td>0.2</td>\n",
       "      <td>4.178632</td>\n",
       "      <td>3.320562</td>\n",
       "      <td>0</td>\n",
       "      <td>1</td>\n",
       "      <td>0</td>\n",
       "      <td>1</td>\n",
       "      <td>3.7</td>\n",
       "      <td>0</td>\n",
       "    </tr>\n",
       "    <tr>\n",
       "      <th>4</th>\n",
       "      <td>0</td>\n",
       "      <td>1</td>\n",
       "      <td>1</td>\n",
       "      <td>5.197281</td>\n",
       "      <td>0.50</td>\n",
       "      <td>0.00</td>\n",
       "      <td>0.00</td>\n",
       "      <td>0.2</td>\n",
       "      <td>4.177161</td>\n",
       "      <td>3.323252</td>\n",
       "      <td>0</td>\n",
       "      <td>0</td>\n",
       "      <td>0</td>\n",
       "      <td>1</td>\n",
       "      <td>2.6</td>\n",
       "      <td>2</td>\n",
       "    </tr>\n",
       "  </tbody>\n",
       "</table>\n",
       "</div>"
      ],
      "text/plain": [
       "   gender  car  reality  income_total  income_type  edu_type  family_type  \\\n",
       "0       0    0        0      5.306425         0.00      0.00         0.00   \n",
       "1       0    0        1      5.393575         0.00      0.25         0.25   \n",
       "2       1    1        1      5.653213         0.25      0.00         0.00   \n",
       "3       0    0        1      5.306425         0.00      0.25         0.00   \n",
       "4       0    1        1      5.197281         0.50      0.00         0.00   \n",
       "\n",
       "   house_type  DAYS_BIRTH  DAYS_EMPLOYED  work_phone  phone  email  \\\n",
       "0         0.0    4.142984       3.672929           0      0      0   \n",
       "1         0.2    4.056142       3.187521           0      0      1   \n",
       "2         0.2    4.280738       3.646796           0      1      0   \n",
       "3         0.2    4.178632       3.320562           0      1      0   \n",
       "4         0.2    4.177161       3.323252           0      0      0   \n",
       "\n",
       "   family_size  begin_month  credit  \n",
       "0            1          0.6       1  \n",
       "1            2          0.5       1  \n",
       "2            1          2.2       2  \n",
       "3            1          3.7       0  \n",
       "4            1          2.6       2  "
      ]
     },
     "execution_count": 12,
     "metadata": {},
     "output_type": "execute_result"
    }
   ],
   "source": [
    "train.head()"
   ]
  },
  {
   "cell_type": "code",
   "execution_count": 13,
   "id": "ec034b65",
   "metadata": {},
   "outputs": [],
   "source": [
    "test = pd.read_csv('C:/Users/82106/Desktop/2022/dacon/test.csv')"
   ]
  },
  {
   "cell_type": "code",
   "execution_count": 14,
   "id": "2a5c551f",
   "metadata": {},
   "outputs": [],
   "source": [
    "sex_mapping = {\"F\":0, \"M\":1}\n",
    "test['gender']=test['gender'].map(sex_mapping)\n",
    "car_mapping = {\"Y\":1, \"N\":0}\n",
    "test['car']=test['car'].map(car_mapping)\n",
    "reality_mapping = {\"Y\":1, \"N\":0}\n",
    "test['reality']=test['reality'].map(reality_mapping)\n"
   ]
  },
  {
   "cell_type": "code",
   "execution_count": 15,
   "id": "64391182",
   "metadata": {},
   "outputs": [],
   "source": [
    "\n",
    "\n",
    "income_type_mapping = {'Commercial associate':0, 'Working':0.25, 'State servant':0.5, 'Pensioner':0.75, 'Student':0.1}\n",
    "test['income_type']=test['income_type'].map(income_type_mapping)\n",
    "edu_type_mapping = {'Higher education':0 ,'Secondary / secondary special':0.25, 'Incomplete higher':0.5, 'Lower secondary':0.75, 'Academic degree':1}\n",
    "test['edu_type']=test['edu_type'].map(edu_type_mapping)\n",
    "family_type_mapping = {'Married':0, 'Civil marriage':0.25, 'Separated':0.5, 'Single / not married':0.75, 'Widow':1}\n",
    "test['family_type']=test['family_type'].map(family_type_mapping)\n",
    "house_type_mapping = {'Municipal apartment':0, 'House / apartment':0.2, 'With parents':0.4,'Co-op apartment':0.6, 'Rented apartment':0.8, 'Office apartment':1}\n",
    "test['house_type']=test['house_type'].map(house_type_mapping)\n",
    "test.drop(['index','FLAG_MOBIL','occyp_type','child_num'],axis=1,inplace=True)\n",
    "test['income_total']=np.log10(test['income_total'])\n",
    "test['income_total']=np.log10(test['income_total'])\n",
    "test['DAYS_BIRTH']=-test['DAYS_BIRTH']\n",
    "\n",
    "test['DAYS_EMPLOYED']=-test['DAYS_EMPLOYED']\n",
    "test['DAYS_BIRTH']=np.log10(test['DAYS_BIRTH'])\n",
    "test['DAYS_EMPLOYED']=np.log10(test['DAYS_EMPLOYED'])\n",
    "test.loc[test['family_size']<=1,'family_size']=0\n",
    "test.loc[(test['family_size']>1)&(test['family_size']<=2),'family_size'] = 1\n",
    "test.loc[(test['family_size']>2)&(test['family_size']<=4),'family_size'] = 2\n",
    "test.loc[test['family_size']>4, 'family_size'] = 3\n",
    "test['begin_month']=-test['begin_month']/10\n",
    "\n"
   ]
  },
  {
   "cell_type": "code",
   "execution_count": 16,
   "id": "c040b579",
   "metadata": {},
   "outputs": [
    {
     "data": {
      "text/html": [
       "<div>\n",
       "<style scoped>\n",
       "    .dataframe tbody tr th:only-of-type {\n",
       "        vertical-align: middle;\n",
       "    }\n",
       "\n",
       "    .dataframe tbody tr th {\n",
       "        vertical-align: top;\n",
       "    }\n",
       "\n",
       "    .dataframe thead th {\n",
       "        text-align: right;\n",
       "    }\n",
       "</style>\n",
       "<table border=\"1\" class=\"dataframe\">\n",
       "  <thead>\n",
       "    <tr style=\"text-align: right;\">\n",
       "      <th></th>\n",
       "      <th>gender</th>\n",
       "      <th>car</th>\n",
       "      <th>reality</th>\n",
       "      <th>income_total</th>\n",
       "      <th>income_type</th>\n",
       "      <th>edu_type</th>\n",
       "      <th>family_type</th>\n",
       "      <th>house_type</th>\n",
       "      <th>DAYS_BIRTH</th>\n",
       "      <th>DAYS_EMPLOYED</th>\n",
       "      <th>work_phone</th>\n",
       "      <th>phone</th>\n",
       "      <th>email</th>\n",
       "      <th>family_size</th>\n",
       "      <th>begin_month</th>\n",
       "    </tr>\n",
       "  </thead>\n",
       "  <tbody>\n",
       "    <tr>\n",
       "      <th>0</th>\n",
       "      <td>1</td>\n",
       "      <td>1</td>\n",
       "      <td>0</td>\n",
       "      <td>0.703390</td>\n",
       "      <td>0.75</td>\n",
       "      <td>0.25</td>\n",
       "      <td>0.25</td>\n",
       "      <td>0.2</td>\n",
       "      <td>4.342225</td>\n",
       "      <td>0.000000</td>\n",
       "      <td>0</td>\n",
       "      <td>1</td>\n",
       "      <td>0</td>\n",
       "      <td>1</td>\n",
       "      <td>6.0</td>\n",
       "    </tr>\n",
       "    <tr>\n",
       "      <th>1</th>\n",
       "      <td>0</td>\n",
       "      <td>0</td>\n",
       "      <td>1</td>\n",
       "      <td>0.710146</td>\n",
       "      <td>0.50</td>\n",
       "      <td>0.00</td>\n",
       "      <td>0.00</td>\n",
       "      <td>0.2</td>\n",
       "      <td>4.277930</td>\n",
       "      <td>3.938069</td>\n",
       "      <td>0</td>\n",
       "      <td>1</td>\n",
       "      <td>0</td>\n",
       "      <td>1</td>\n",
       "      <td>3.6</td>\n",
       "    </tr>\n",
       "    <tr>\n",
       "      <th>2</th>\n",
       "      <td>0</td>\n",
       "      <td>0</td>\n",
       "      <td>1</td>\n",
       "      <td>0.684952</td>\n",
       "      <td>0.25</td>\n",
       "      <td>0.25</td>\n",
       "      <td>0.00</td>\n",
       "      <td>0.2</td>\n",
       "      <td>4.201042</td>\n",
       "      <td>2.336460</td>\n",
       "      <td>1</td>\n",
       "      <td>1</td>\n",
       "      <td>0</td>\n",
       "      <td>1</td>\n",
       "      <td>4.0</td>\n",
       "    </tr>\n",
       "    <tr>\n",
       "      <th>3</th>\n",
       "      <td>1</td>\n",
       "      <td>1</td>\n",
       "      <td>0</td>\n",
       "      <td>0.703390</td>\n",
       "      <td>0.00</td>\n",
       "      <td>0.25</td>\n",
       "      <td>0.00</td>\n",
       "      <td>0.2</td>\n",
       "      <td>4.284882</td>\n",
       "      <td>3.403292</td>\n",
       "      <td>1</td>\n",
       "      <td>0</td>\n",
       "      <td>0</td>\n",
       "      <td>1</td>\n",
       "      <td>4.1</td>\n",
       "    </tr>\n",
       "    <tr>\n",
       "      <th>4</th>\n",
       "      <td>0</td>\n",
       "      <td>1</td>\n",
       "      <td>1</td>\n",
       "      <td>0.728531</td>\n",
       "      <td>0.50</td>\n",
       "      <td>0.00</td>\n",
       "      <td>0.00</td>\n",
       "      <td>0.2</td>\n",
       "      <td>4.250956</td>\n",
       "      <td>3.972434</td>\n",
       "      <td>1</td>\n",
       "      <td>0</td>\n",
       "      <td>0</td>\n",
       "      <td>1</td>\n",
       "      <td>0.8</td>\n",
       "    </tr>\n",
       "  </tbody>\n",
       "</table>\n",
       "</div>"
      ],
      "text/plain": [
       "   gender  car  reality  income_total  income_type  edu_type  family_type  \\\n",
       "0       1    1        0      0.703390         0.75      0.25         0.25   \n",
       "1       0    0        1      0.710146         0.50      0.00         0.00   \n",
       "2       0    0        1      0.684952         0.25      0.25         0.00   \n",
       "3       1    1        0      0.703390         0.00      0.25         0.00   \n",
       "4       0    1        1      0.728531         0.50      0.00         0.00   \n",
       "\n",
       "   house_type  DAYS_BIRTH  DAYS_EMPLOYED  work_phone  phone  email  \\\n",
       "0         0.2    4.342225       0.000000           0      1      0   \n",
       "1         0.2    4.277930       3.938069           0      1      0   \n",
       "2         0.2    4.201042       2.336460           1      1      0   \n",
       "3         0.2    4.284882       3.403292           1      0      0   \n",
       "4         0.2    4.250956       3.972434           1      0      0   \n",
       "\n",
       "   family_size  begin_month  \n",
       "0            1          6.0  \n",
       "1            1          3.6  \n",
       "2            1          4.0  \n",
       "3            1          4.1  \n",
       "4            1          0.8  "
      ]
     },
     "execution_count": 16,
     "metadata": {},
     "output_type": "execute_result"
    }
   ],
   "source": [
    "test.head()"
   ]
  },
  {
   "cell_type": "code",
   "execution_count": 18,
   "id": "0d6df353",
   "metadata": {},
   "outputs": [],
   "source": [
    "#knn method\n"
   ]
  },
  {
   "cell_type": "code",
   "execution_count": 19,
   "id": "5508ec03",
   "metadata": {},
   "outputs": [],
   "source": [
    "from sklearn.neighbors import KNeighborsClassifier"
   ]
  },
  {
   "cell_type": "code",
   "execution_count": 161,
   "id": "52c34fd5",
   "metadata": {},
   "outputs": [],
   "source": [
    "classifier = KNeighborsClassifier(n_neighbors = 3)"
   ]
  },
  {
   "cell_type": "code",
   "execution_count": 20,
   "id": "8dff2815",
   "metadata": {},
   "outputs": [],
   "source": [
    "train_x = train.iloc[:,:-1]\n",
    "train_y = train.iloc[:,-1]"
   ]
  },
  {
   "cell_type": "code",
   "execution_count": 162,
   "id": "05c899db",
   "metadata": {},
   "outputs": [
    {
     "name": "stdout",
     "output_type": "stream",
     "text": [
      "0.7794156555920928\n"
     ]
    }
   ],
   "source": [
    "classifier.fit(train_x, train_y)\n",
    "print(classifier.score(train_x,train_y))"
   ]
  },
  {
   "cell_type": "code",
   "execution_count": 164,
   "id": "5aeebe5f",
   "metadata": {},
   "outputs": [],
   "source": [
    "l1= []\n",
    "l1 = classifier.predict(test)"
   ]
  },
  {
   "cell_type": "code",
   "execution_count": 180,
   "id": "3e6fc464",
   "metadata": {},
   "outputs": [],
   "source": []
  },
  {
   "cell_type": "code",
   "execution_count": 178,
   "id": "b3a93579",
   "metadata": {},
   "outputs": [],
   "source": []
  },
  {
   "cell_type": "code",
   "execution_count": 197,
   "id": "ae4023c7",
   "metadata": {},
   "outputs": [
    {
     "ename": "TypeError",
     "evalue": "cannot convert the series to <class 'int'>",
     "output_type": "error",
     "traceback": [
      "\u001b[1;31m---------------------------------------------------------------------------\u001b[0m",
      "\u001b[1;31mTypeError\u001b[0m                                 Traceback (most recent call last)",
      "\u001b[1;32m~\\AppData\\Local\\Temp/ipykernel_9048/3216979023.py\u001b[0m in \u001b[0;36m<module>\u001b[1;34m\u001b[0m\n\u001b[1;32m----> 1\u001b[1;33m l = pd.DataFrame({'0':int(s.iloc[:,0]==0),\n\u001b[0m\u001b[0;32m      2\u001b[0m                  \u001b[1;34m'1'\u001b[0m\u001b[1;33m:\u001b[0m\u001b[0ms\u001b[0m\u001b[1;33m.\u001b[0m\u001b[0miloc\u001b[0m\u001b[1;33m[\u001b[0m\u001b[1;33m:\u001b[0m\u001b[1;33m,\u001b[0m\u001b[1;36m0\u001b[0m\u001b[1;33m]\u001b[0m\u001b[1;33m==\u001b[0m\u001b[1;36m1\u001b[0m\u001b[1;33m,\u001b[0m\u001b[1;33m\u001b[0m\u001b[1;33m\u001b[0m\u001b[0m\n\u001b[0;32m      3\u001b[0m                  '2':s.iloc[:,0]==2})\n",
      "\u001b[1;32m~\\anaconda3\\lib\\site-packages\\pandas\\core\\series.py\u001b[0m in \u001b[0;36mwrapper\u001b[1;34m(self)\u001b[0m\n\u001b[0;32m    183\u001b[0m         \u001b[1;32mif\u001b[0m \u001b[0mlen\u001b[0m\u001b[1;33m(\u001b[0m\u001b[0mself\u001b[0m\u001b[1;33m)\u001b[0m \u001b[1;33m==\u001b[0m \u001b[1;36m1\u001b[0m\u001b[1;33m:\u001b[0m\u001b[1;33m\u001b[0m\u001b[1;33m\u001b[0m\u001b[0m\n\u001b[0;32m    184\u001b[0m             \u001b[1;32mreturn\u001b[0m \u001b[0mconverter\u001b[0m\u001b[1;33m(\u001b[0m\u001b[0mself\u001b[0m\u001b[1;33m.\u001b[0m\u001b[0miloc\u001b[0m\u001b[1;33m[\u001b[0m\u001b[1;36m0\u001b[0m\u001b[1;33m]\u001b[0m\u001b[1;33m)\u001b[0m\u001b[1;33m\u001b[0m\u001b[1;33m\u001b[0m\u001b[0m\n\u001b[1;32m--> 185\u001b[1;33m         \u001b[1;32mraise\u001b[0m \u001b[0mTypeError\u001b[0m\u001b[1;33m(\u001b[0m\u001b[1;34mf\"cannot convert the series to {converter}\"\u001b[0m\u001b[1;33m)\u001b[0m\u001b[1;33m\u001b[0m\u001b[1;33m\u001b[0m\u001b[0m\n\u001b[0m\u001b[0;32m    186\u001b[0m \u001b[1;33m\u001b[0m\u001b[0m\n\u001b[0;32m    187\u001b[0m     \u001b[0mwrapper\u001b[0m\u001b[1;33m.\u001b[0m\u001b[0m__name__\u001b[0m \u001b[1;33m=\u001b[0m \u001b[1;34mf\"__{converter.__name__}__\"\u001b[0m\u001b[1;33m\u001b[0m\u001b[1;33m\u001b[0m\u001b[0m\n",
      "\u001b[1;31mTypeError\u001b[0m: cannot convert the series to <class 'int'>"
     ]
    }
   ],
   "source": [
    "s = pd.DataFrame(l1)\n",
    "s.loc['0'] = (s.iloc[0]==0)\n",
    "l = pd.DataFrame({'0':s.iloc[:,0]==0,\n",
    "                 '1':s.iloc[:,0]==1,\n",
    "                 '2':s.iloc[:,0]==2})"
   ]
  },
  {
   "cell_type": "code",
   "execution_count": 206,
   "id": "712c9a12",
   "metadata": {},
   "outputs": [],
   "source": [
    "l_real=l.applymap(lambda x:1 if x else 0)"
   ]
  },
  {
   "cell_type": "code",
   "execution_count": 202,
   "id": "8a194f93",
   "metadata": {},
   "outputs": [
    {
     "data": {
      "text/html": [
       "<div>\n",
       "<style scoped>\n",
       "    .dataframe tbody tr th:only-of-type {\n",
       "        vertical-align: middle;\n",
       "    }\n",
       "\n",
       "    .dataframe tbody tr th {\n",
       "        vertical-align: top;\n",
       "    }\n",
       "\n",
       "    .dataframe thead th {\n",
       "        text-align: right;\n",
       "    }\n",
       "</style>\n",
       "<table border=\"1\" class=\"dataframe\">\n",
       "  <thead>\n",
       "    <tr style=\"text-align: right;\">\n",
       "      <th></th>\n",
       "      <th>0</th>\n",
       "      <th>1</th>\n",
       "      <th>2</th>\n",
       "    </tr>\n",
       "  </thead>\n",
       "  <tbody>\n",
       "    <tr>\n",
       "      <th>0</th>\n",
       "      <td>False</td>\n",
       "      <td>False</td>\n",
       "      <td>True</td>\n",
       "    </tr>\n",
       "    <tr>\n",
       "      <th>1</th>\n",
       "      <td>False</td>\n",
       "      <td>False</td>\n",
       "      <td>True</td>\n",
       "    </tr>\n",
       "    <tr>\n",
       "      <th>2</th>\n",
       "      <td>False</td>\n",
       "      <td>False</td>\n",
       "      <td>True</td>\n",
       "    </tr>\n",
       "    <tr>\n",
       "      <th>3</th>\n",
       "      <td>True</td>\n",
       "      <td>False</td>\n",
       "      <td>False</td>\n",
       "    </tr>\n",
       "    <tr>\n",
       "      <th>4</th>\n",
       "      <td>False</td>\n",
       "      <td>False</td>\n",
       "      <td>True</td>\n",
       "    </tr>\n",
       "    <tr>\n",
       "      <th>...</th>\n",
       "      <td>...</td>\n",
       "      <td>...</td>\n",
       "      <td>...</td>\n",
       "    </tr>\n",
       "    <tr>\n",
       "      <th>9995</th>\n",
       "      <td>False</td>\n",
       "      <td>False</td>\n",
       "      <td>True</td>\n",
       "    </tr>\n",
       "    <tr>\n",
       "      <th>9996</th>\n",
       "      <td>False</td>\n",
       "      <td>False</td>\n",
       "      <td>True</td>\n",
       "    </tr>\n",
       "    <tr>\n",
       "      <th>9997</th>\n",
       "      <td>False</td>\n",
       "      <td>False</td>\n",
       "      <td>True</td>\n",
       "    </tr>\n",
       "    <tr>\n",
       "      <th>9998</th>\n",
       "      <td>False</td>\n",
       "      <td>False</td>\n",
       "      <td>True</td>\n",
       "    </tr>\n",
       "    <tr>\n",
       "      <th>9999</th>\n",
       "      <td>True</td>\n",
       "      <td>False</td>\n",
       "      <td>False</td>\n",
       "    </tr>\n",
       "  </tbody>\n",
       "</table>\n",
       "<p>10000 rows × 3 columns</p>\n",
       "</div>"
      ],
      "text/plain": [
       "          0      1      2\n",
       "0     False  False   True\n",
       "1     False  False   True\n",
       "2     False  False   True\n",
       "3      True  False  False\n",
       "4     False  False   True\n",
       "...     ...    ...    ...\n",
       "9995  False  False   True\n",
       "9996  False  False   True\n",
       "9997  False  False   True\n",
       "9998  False  False   True\n",
       "9999   True  False  False\n",
       "\n",
       "[10000 rows x 3 columns]"
      ]
     },
     "execution_count": 202,
     "metadata": {},
     "output_type": "execute_result"
    }
   ],
   "source": [
    "l"
   ]
  },
  {
   "cell_type": "code",
   "execution_count": 207,
   "id": "9537378c",
   "metadata": {},
   "outputs": [],
   "source": [
    "l_real.to_csv(\"C:/Users/82106/Desktop/2022/dacon/submit_real.csv\",header=True)"
   ]
  },
  {
   "cell_type": "code",
   "execution_count": 21,
   "id": "0b55f1f2",
   "metadata": {},
   "outputs": [],
   "source": [
    "#NB method"
   ]
  },
  {
   "cell_type": "code",
   "execution_count": 28,
   "id": "374e80c3",
   "metadata": {},
   "outputs": [],
   "source": [
    "from sklearn.naive_bayes import GaussianNB\n",
    "from sklearn.metrics import accuracy_score,confusion_matrix"
   ]
  },
  {
   "cell_type": "code",
   "execution_count": 29,
   "id": "5a489d4f",
   "metadata": {},
   "outputs": [
    {
     "data": {
      "text/plain": [
       "GaussianNB()"
      ]
     },
     "execution_count": 29,
     "metadata": {},
     "output_type": "execute_result"
    }
   ],
   "source": [
    "model = GaussianNB()\n",
    "model.fit(X=train_x,y=train_y)"
   ]
  },
  {
   "cell_type": "code",
   "execution_count": 32,
   "id": "7dd1a956",
   "metadata": {},
   "outputs": [],
   "source": [
    "test_y = model.predict(test)"
   ]
  },
  {
   "cell_type": "code",
   "execution_count": 33,
   "id": "d5d7ad98",
   "metadata": {},
   "outputs": [
    {
     "data": {
      "text/plain": [
       "array([2, 2, 2, ..., 2, 2, 2], dtype=int64)"
      ]
     },
     "execution_count": 33,
     "metadata": {},
     "output_type": "execute_result"
    }
   ],
   "source": [
    "test_y"
   ]
  },
  {
   "cell_type": "code",
   "execution_count": null,
   "id": "ebf3425e",
   "metadata": {},
   "outputs": [],
   "source": []
  }
 ],
 "metadata": {
  "kernelspec": {
   "display_name": "Python 3 (ipykernel)",
   "language": "python",
   "name": "python3"
  },
  "language_info": {
   "codemirror_mode": {
    "name": "ipython",
    "version": 3
   },
   "file_extension": ".py",
   "mimetype": "text/x-python",
   "name": "python",
   "nbconvert_exporter": "python",
   "pygments_lexer": "ipython3",
   "version": "3.9.7"
  }
 },
 "nbformat": 4,
 "nbformat_minor": 5
}
